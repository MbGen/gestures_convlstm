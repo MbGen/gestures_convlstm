{
 "cells": [
  {
   "cell_type": "code",
   "execution_count": 1,
   "id": "initial_id",
   "metadata": {
    "ExecuteTime": {
     "end_time": "2023-11-22T12:57:24.324950660Z",
     "start_time": "2023-11-22T12:57:22.025258625Z"
    },
    "collapsed": true
   },
   "outputs": [
    {
     "data": {
      "text/plain": [
       "<contextlib.ExitStack at 0x2553d3360e0>"
      ]
     },
     "execution_count": 1,
     "metadata": {},
     "output_type": "execute_result"
    }
   ],
   "source": [
    "import os\n",
    "import torch\n",
    "from skimage import transform, io\n",
    "\n",
    "import pandas\n",
    "import numpy as np\n",
    "import matplotlib.pyplot as plt\n",
    "from torch.utils.data import Dataset, DataLoader\n",
    "\n",
    "import torch.nn as nn\n",
    "# Ignore warnings\n",
    "import warnings\n",
    "warnings.filterwarnings(\"ignore\")\n",
    "\n",
    "plt.ion()   # interactive mode"
   ]
  },
  {
   "cell_type": "code",
   "execution_count": 4,
   "id": "a60affffd041ceee",
   "metadata": {
    "ExecuteTime": {
     "end_time": "2023-11-22T13:06:14.236411046Z",
     "start_time": "2023-11-22T13:06:13.984089049Z"
    },
    "collapsed": false
   },
   "outputs": [
    {
     "data": {
      "text/plain": [
       "(torch.Size([24, 30, 1, 200, 100]), torch.float32)"
      ]
     },
     "execution_count": 4,
     "metadata": {},
     "output_type": "execute_result"
    }
   ],
   "source": [
    "class DatasetLoader(Dataset):\n",
    "    def __init__(self, path_to_dataset: str, amount_of_photo_at_dir:int, im_w: int, im_h: int, channels=3):\n",
    "        self.path_to_dataset = path_to_dataset + '/'\n",
    "        self.data = []\n",
    "        self.amount_of_photo = amount_of_photo_at_dir\n",
    "        self.image_width = im_w \n",
    "        self.image_height = im_h\n",
    "        self.image_channels = channels\n",
    "        \n",
    "    def load(self, train_size: float = 0.7) -> tuple[torch.Tensor, torch.Tensor] | torch.Tensor:\n",
    "        # TODO: може попасти таке шо не може бути sorted\n",
    "        count_of_dirs = len(os.listdir(self.path_to_dataset)) \n",
    "       \n",
    "        train_size = round(count_of_dirs * train_size)\n",
    "        \n",
    "        for dirname in sorted(os.listdir(self.path_to_dataset)):\n",
    "            for filename in sorted(os.listdir(self.path_to_dataset + dirname)):\n",
    "                image = io.imread(os.path.join(self.path_to_dataset + dirname, filename))\n",
    "                image = image.reshape(self.image_channels, self.image_height, self.image_width)\n",
    "                    \n",
    "                self.data.append(image)\n",
    "                \n",
    "        try:\n",
    "            dataset = torch.tensor(self.data).view(count_of_dirs,\n",
    "                                                   self.amount_of_photo,\n",
    "                                                   self.image_channels,\n",
    "                                                   self.image_height,\n",
    "                                                   self.image_width)\n",
    "            dataset = dataset / 255\n",
    "            train_dataset = dataset[:train_size]\n",
    "            test_dataset = dataset[train_size:]\n",
    "            return train_dataset, test_dataset\n",
    "        \n",
    "        except Exception as e:\n",
    "            print(e)\n",
    "            print(\"Your given form is not correct, check your data\")\n",
    "            return torch.tensor([])\n",
    "        \n",
    "swipe_dataset_train, swipe_dataset_test = DatasetLoader('C:/Users/redpy/OneDrive/Рабочий стол/pythonProject/SwipeDetector/datasets/canny_filter_swipe-up-30',\n",
    "                              amount_of_photo_at_dir=30,\n",
    "                              im_w=100,\n",
    "                              im_h=200, channels=1).load(train_size=0.8)\n",
    "\n",
    "swipe_dataset_train.shape, swipe_dataset_train.dtype"
   ]
  },
  {
   "cell_type": "code",
   "execution_count": 5,
   "id": "b875d89255af29b0",
   "metadata": {
    "ExecuteTime": {
     "end_time": "2023-11-22T13:06:22.064399596Z",
     "start_time": "2023-11-22T13:06:21.802857670Z"
    },
    "collapsed": false
   },
   "outputs": [
    {
     "data": {
      "text/plain": [
       "(torch.Size([24, 30, 1, 200, 100]), torch.float32)"
      ]
     },
     "execution_count": 5,
     "metadata": {},
     "output_type": "execute_result"
    }
   ],
   "source": [
    "default_pose_dataset_train, default_pose_dataset_test = DatasetLoader(\n",
    "    'C:/Users/redpy/OneDrive/Рабочий стол/pythonProject/SwipeDetector/datasets/canny_filter_default-30',\n",
    "    amount_of_photo_at_dir=30,\n",
    "    im_w=100,\n",
    "    im_h=200,\n",
    "    channels=1\n",
    ").load(train_size=0.8)\n",
    "\n",
    "default_pose_dataset_train.shape, default_pose_dataset_train.dtype"
   ]
  },
  {
   "cell_type": "code",
   "execution_count": 6,
   "id": "e4afbcd7c69d1637",
   "metadata": {
    "ExecuteTime": {
     "end_time": "2023-11-22T13:10:25.396678530Z",
     "start_time": "2023-11-22T13:10:25.391487932Z"
    },
    "collapsed": false
   },
   "outputs": [
    {
     "data": {
      "text/plain": [
       "'cuda'"
      ]
     },
     "execution_count": 6,
     "metadata": {},
     "output_type": "execute_result"
    }
   ],
   "source": [
    "device = 'cuda' if torch.cuda.is_available() else 'cpu'\n",
    "device"
   ]
  },
  {
   "cell_type": "code",
   "execution_count": 12,
   "id": "a4bf0aa0df956cf8",
   "metadata": {
    "ExecuteTime": {
     "end_time": "2023-11-22T15:28:06.795020038Z",
     "start_time": "2023-11-22T15:28:06.673758778Z"
    },
    "collapsed": false
   },
   "outputs": [
    {
     "name": "stdout",
     "output_type": "stream",
     "text": [
      "23548050\n"
     ]
    }
   ],
   "source": [
    "class ConvLSTM(nn.Module):\n",
    "    def __init__(self, num_classes_to_predict):\n",
    "        super().__init__()\n",
    "        \n",
    "        self.tanh = nn.Tanh() \n",
    "        self.relu = nn.ReLU()\n",
    "        \n",
    "        self.conv1 = nn.Conv3d(in_channels=1, out_channels=32, kernel_size=(1, 10, 10)) \n",
    "         \n",
    "        self.maxpool = nn.MaxPool3d(kernel_size=(1, 5, 5))\n",
    "        \n",
    "        self.conv2 = nn.Conv3d(in_channels=32, out_channels=16, kernel_size=(1, 5, 5))\n",
    "        \n",
    "        self.fc = nn.Linear(5760, 2000)\n",
    "        \n",
    "        self.lstm = nn.LSTM(2000, 1000, batch_first=True) \n",
    "        \n",
    "        self.fc1 = nn.Linear(1000, num_classes_to_predict)\n",
    "        \n",
    "        self.softmax = nn.Softmax(dim=1)\n",
    "\n",
    "        nn.init.kaiming_normal_(self.fc1.weight)\n",
    "        \n",
    "        nn.init.kaiming_uniform_(self.conv1.weight)\n",
    "        nn.init.kaiming_uniform_(self.conv2.weight)\n",
    "        \n",
    "    def forward(self, x):\n",
    "        B = x.shape[0]\n",
    "        \n",
    "        x = self.maxpool(self.relu(self.conv1(x)))\n",
    "        x = nn.functional.dropout(x, p=0.3, training=self.training)\n",
    "        x = self.maxpool(self.relu(self.conv2(x)))\n",
    "        x = nn.functional.dropout(x, p=0.3, training=self.training)\n",
    "        x = x.view(B, -1)\n",
    "        \n",
    "        x = self.tanh(self.fc(x))\n",
    "        \n",
    "        h_t, c_t = self.lstm(x)\n",
    "        h_t = nn.functional.dropout(h_t, p=0.3, training=self.training)\n",
    "        x = self.tanh(self.fc1(h_t))\n",
    "        \n",
    "        return self.softmax(x), h_t, c_t \n",
    "        \n",
    "\n",
    "model = ConvLSTM(num_classes_to_predict=2).to(device)\n",
    "\n",
    "print(sum(p.numel() for p in model.parameters()))"
   ]
  },
  {
   "cell_type": "code",
   "execution_count": 13,
   "id": "ccca3b4370bba398",
   "metadata": {
    "ExecuteTime": {
     "end_time": "2023-11-22T15:44:10.440337873Z",
     "start_time": "2023-11-22T15:44:10.422561554Z"
    },
    "collapsed": false
   },
   "outputs": [
    {
     "name": "stdout",
     "output_type": "stream",
     "text": [
      "tensor([[1., 0.],\n",
      "        [0., 1.]]) <- classes\n"
     ]
    }
   ],
   "source": [
    "n = 2\n",
    "classes = torch.eye(n=n) \n",
    "print(classes, '<- classes')\n",
    "\n",
    "# 0 -> Default\n",
    "# 1 -> Swipe-up\n",
    "default_pose_dataset_targets = torch.expand_copy(classes[0],\n",
    "                                                 size=(default_pose_dataset_train.shape[0], default_pose_dataset_train.shape[1],n))\n",
    "\n",
    "swipe_up_targets = torch.expand_copy(classes[1],\n",
    "                                     size=(swipe_dataset_train.shape[0], swipe_dataset_train.shape[1], n))\n",
    "\n",
    "\n",
    "X_train = torch.concat(tensors=(swipe_dataset_train, default_pose_dataset_train), dim=0).to(device)\n",
    "\n",
    "Y_train =  torch.concat(tensors=(swipe_up_targets, default_pose_dataset_targets), dim=0).to(device)"
   ]
  },
  {
   "cell_type": "code",
   "execution_count": 14,
   "id": "bd6e535fb7cc59e",
   "metadata": {
    "ExecuteTime": {
     "end_time": "2023-11-22T15:28:10.653859473Z",
     "start_time": "2023-11-22T15:28:10.646795867Z"
    },
    "collapsed": false
   },
   "outputs": [],
   "source": [
    "lr = 0.000001 # lr = 0.00001 <- were good lr\n",
    "optimizer = torch.optim.Adam(params=model.parameters(), lr=lr)\n",
    "criterion = nn.CrossEntropyLoss()\n",
    "epochs = 300 \n",
    "lossi = []"
   ]
  },
  {
   "cell_type": "code",
   "execution_count": 15,
   "id": "ac8ca2c684c7666b",
   "metadata": {
    "ExecuteTime": {
     "end_time": "2023-11-22T15:29:49.155279211Z",
     "start_time": "2023-11-22T15:28:11.938909373Z"
    },
    "collapsed": false
   },
   "outputs": [
    {
     "name": "stdout",
     "output_type": "stream",
     "text": [
      "0 Loss = 0.7153539657592773\n",
      "10 Loss = 0.4856008291244507\n",
      "20 Loss = 0.45082807540893555\n",
      "30 Loss = 0.426893413066864\n",
      "40 Loss = 0.42680829763412476\n",
      "50 Loss = 0.43082770705223083\n",
      "60 Loss = 0.4159601926803589\n",
      "70 Loss = 0.4003821611404419\n",
      "80 Loss = 0.3988114893436432\n",
      "90 Loss = 0.39830759167671204\n",
      "100 Loss = 0.3973942697048187\n",
      "110 Loss = 0.38860443234443665\n",
      "120 Loss = 0.39288097620010376\n",
      "130 Loss = 0.38676828145980835\n",
      "140 Loss = 0.390580952167511\n",
      "150 Loss = 0.38514572381973267\n",
      "160 Loss = 0.3851432800292969\n",
      "170 Loss = 0.38445600867271423\n",
      "180 Loss = 0.3841952085494995\n",
      "190 Loss = 0.38365641236305237\n",
      "200 Loss = 0.3848395049571991\n",
      "210 Loss = 0.3836246728897095\n",
      "220 Loss = 0.38354596495628357\n",
      "230 Loss = 0.3834027349948883\n",
      "240 Loss = 0.38330718874931335\n",
      "250 Loss = 0.3834661841392517\n",
      "260 Loss = 0.38320398330688477\n",
      "270 Loss = 0.38326185941696167\n",
      "280 Loss = 0.38320350646972656\n",
      "290 Loss = 0.3831905722618103\n",
      "0.38319194316864014\n"
     ]
    }
   ],
   "source": [
    "model.train()\n",
    "\n",
    "for epoch in range(epochs):\n",
    "    for i, v in enumerate(X_train):\n",
    "        inp = X_train[i].view(1, 1, 30, 200, 100)\n",
    "        target = Y_train[i]\n",
    "        \n",
    "        pred, _, _ = model(inp)\n",
    "        \n",
    "        loss = criterion(pred, target[0].unsqueeze(0))\n",
    "        \n",
    "        optimizer.zero_grad(set_to_none=True)\n",
    "        loss.backward()\n",
    "        lossi.append(loss.item()) \n",
    "        optimizer.step()\n",
    "    if epoch % 10 == 0:\n",
    "        print(epoch, f\"Loss = {loss.item()}\")\n",
    "print(loss.item()) "
   ]
  },
  {
   "cell_type": "code",
   "execution_count": 16,
   "id": "e75c0e4f14c102a1",
   "metadata": {
    "ExecuteTime": {
     "end_time": "2023-11-22T15:31:09.636691436Z",
     "start_time": "2023-11-22T15:31:09.529088993Z"
    },
    "collapsed": false
   },
   "outputs": [
    {
     "data": {
      "text/plain": [
       "[<matplotlib.lines.Line2D at 0x2552cbee9e0>]"
      ]
     },
     "execution_count": 16,
     "metadata": {},
     "output_type": "execute_result"
    },
    {
     "data": {
      "image/png": "[encoded data removed]",
      "text/plain": [
       "<Figure size 640x480 with 1 Axes>"
      ]
     },
     "metadata": {},
     "output_type": "display_data"
    }
   ],
   "source": [
    "plt.plot(torch.tensor(lossi).view(-1, 100).mean(dim=1))"
   ]
  },
  {
   "cell_type": "code",
   "execution_count": 19,
   "id": "8205d77a49a04d4f",
   "metadata": {
    "ExecuteTime": {
     "end_time": "2023-11-22T15:44:32.933412648Z",
     "start_time": "2023-11-22T15:44:32.884353117Z"
    },
    "collapsed": false
   },
   "outputs": [
    {
     "name": "stdout",
     "output_type": "stream",
     "text": [
      "100.0\n"
     ]
    }
   ],
   "source": [
    "model.eval()\n",
    "total = 0\n",
    "correct = 0\n",
    "\n",
    "default_pose_dataset_targets_test = torch.expand_copy(classes[0],\n",
    "                                                 size=(default_pose_dataset_test.shape[0], default_pose_dataset_test.shape[1],n))\n",
    "\n",
    "swipe_up_targets_test = torch.expand_copy(classes[1],\n",
    "                                     size=(swipe_dataset_test.shape[0], swipe_dataset_test.shape[1], n))\n",
    "\n",
    "\n",
    "X_test = torch.concat((swipe_dataset_test, default_pose_dataset_test), dim=0).to(device)\n",
    "Y_test = torch.concat((swipe_up_targets_test, default_pose_dataset_targets_test), dim=0).to(device)\n",
    "\n",
    "\n",
    "for i, v in enumerate(X_test):\n",
    "    inp = X_test[i].view(1, 1, 30, 200, 100)\n",
    "    tg = Y_test[i].to(torch.int64)\n",
    "    pred, _, _ = model(inp)\n",
    "    if classes.to(torch.int64).to(device)[pred.argmax(dim=1)].allclose(tg[0]):\n",
    "        correct += 1\n",
    "    total += 1\n",
    "\n",
    "print(f\"{correct / total * 100}\")"
   ]
  },
  {
   "cell_type": "code",
   "execution_count": 20,
   "id": "1c71827f469bfac3",
   "metadata": {
    "ExecuteTime": {
     "end_time": "2023-11-22T15:31:19.941280303Z",
     "start_time": "2023-11-22T15:31:19.809548753Z"
    },
    "collapsed": false
   },
   "outputs": [],
   "source": [
    "torch.save(model.state_dict(), 'canny_v5_30_frames_drop')"
   ]
  }
 ],
 "metadata": {
  "kernelspec": {
   "display_name": "Python 3",
   "language": "python",
   "name": "python3"
  },
  "language_info": {
   "codemirror_mode": {
    "name": "ipython",
    "version": 3
   },
   "file_extension": ".py",
   "mimetype": "text/x-python",
   "name": "python",
   "nbconvert_exporter": "python",
   "pygments_lexer": "ipython3",
   "version": "3.10.0"
  }
 },
 "nbformat": 4,
 "nbformat_minor": 5
}
