{
 "cells": [
  {
   "cell_type": "code",
   "execution_count": 1,
   "id": "initial_id",
   "metadata": {
    "collapsed": true,
    "ExecuteTime": {
     "end_time": "2023-11-22T12:57:24.324950660Z",
     "start_time": "2023-11-22T12:57:22.025258625Z"
    }
   },
   "outputs": [
    {
     "name": "stderr",
     "output_type": "stream",
     "text": [
      "/usr/lib/python3/dist-packages/scipy/__init__.py:146: UserWarning: A NumPy version >=1.17.3 and <1.25.0 is required for this version of SciPy (detected version 1.26.0\n",
      "  warnings.warn(f\"A NumPy version >={np_minversion} and <{np_maxversion}\"\n"
     ]
    },
    {
     "data": {
      "text/plain": "<matplotlib.pyplot._IonContext at 0x7fea6e540cd0>"
     },
     "execution_count": 1,
     "metadata": {},
     "output_type": "execute_result"
    }
   ],
   "source": [
    "import os\n",
    "import torch\n",
    "from skimage import transform, io\n",
    "\n",
    "import pandas\n",
    "import numpy as np\n",
    "import matplotlib.pyplot as plt\n",
    "from torch.utils.data import Dataset, DataLoader\n",
    "\n",
    "import torch.nn as nn\n",
    "# Ignore warnings\n",
    "import warnings\n",
    "warnings.filterwarnings(\"ignore\")\n",
    "\n",
    "plt.ion()   # interactive mode"
   ]
  },
  {
   "cell_type": "code",
   "execution_count": 14,
   "outputs": [
    {
     "data": {
      "text/plain": "(torch.Size([14, 5, 1, 200, 100]), torch.float32)"
     },
     "execution_count": 14,
     "metadata": {},
     "output_type": "execute_result"
    }
   ],
   "source": [
    "class DatasetLoader(Dataset):\n",
    "    def __init__(self, path_to_dataset: str, amount_of_photo_at_dir:int, im_w: int, im_h: int, channels=3):\n",
    "        self.path_to_dataset = path_to_dataset + '/'\n",
    "        self.data = []\n",
    "        self.amount_of_photo = amount_of_photo_at_dir\n",
    "        self.image_width = im_w \n",
    "        self.image_height = im_h\n",
    "        self.image_channels = channels\n",
    "        \n",
    "    def load(self, train_size: float = 0.7) -> tuple[torch.Tensor, torch.Tensor] | torch.Tensor:\n",
    "        # TODO: може попасти таке шо не може бути sorted\n",
    "        count_of_dirs = len(os.listdir(self.path_to_dataset)) \n",
    "       \n",
    "        train_size = round(count_of_dirs * train_size)\n",
    "        \n",
    "        for dirname in sorted(os.listdir(self.path_to_dataset)):\n",
    "            for filename in sorted(os.listdir(self.path_to_dataset + dirname)):\n",
    "                image = io.imread(os.path.join(self.path_to_dataset + dirname, filename))\n",
    "                image = image.reshape(self.image_channels, self.image_height, self.image_width)\n",
    "                    \n",
    "                self.data.append(image)\n",
    "                \n",
    "        try:\n",
    "            dataset = torch.tensor(self.data).view(count_of_dirs,\n",
    "                                                   self.amount_of_photo,\n",
    "                                                   self.image_channels,\n",
    "                                                   self.image_height,\n",
    "                                                   self.image_width)\n",
    "            dataset = dataset / 255\n",
    "            train_dataset = dataset[:train_size]\n",
    "            test_dataset = dataset[train_size:]\n",
    "            return train_dataset, test_dataset\n",
    "        \n",
    "        except Exception as e:\n",
    "            print(e)\n",
    "            print(\"Your given form is not correct, check your data\")\n",
    "            return torch.tensor([])\n",
    "        \n",
    "swipe_dataset_train, swipe_dataset_test = DatasetLoader('/home/humboy/PycharmProjects/pythonProject/SwipeDetector/datasets/canny_filter_swipe-up',\n",
    "                              amount_of_photo_at_dir=5,\n",
    "                              im_w=100,\n",
    "                              im_h=200, channels=1).load(train_size=0.7)\n",
    "\n",
    "swipe_dataset_train.shape, swipe_dataset_train.dtype"
   ],
   "metadata": {
    "collapsed": false,
    "ExecuteTime": {
     "end_time": "2023-11-22T13:06:14.236411046Z",
     "start_time": "2023-11-22T13:06:13.984089049Z"
    }
   },
   "id": "a60affffd041ceee"
  },
  {
   "cell_type": "code",
   "execution_count": 15,
   "outputs": [
    {
     "data": {
      "text/plain": "(torch.Size([14, 5, 1, 200, 100]), torch.float32)"
     },
     "execution_count": 15,
     "metadata": {},
     "output_type": "execute_result"
    }
   ],
   "source": [
    "default_pose_dataset_train, default_pose_dataset_test = DatasetLoader(\n",
    "    '/home/humboy/PycharmProjects/pythonProject/SwipeDetector/datasets/canny_filter_default',\n",
    "    amount_of_photo_at_dir=5,\n",
    "    im_w=100,\n",
    "    im_h=200,\n",
    "    channels=1\n",
    ").load(train_size=0.7)\n",
    "\n",
    "default_pose_dataset_train.shape, default_pose_dataset_train.dtype"
   ],
   "metadata": {
    "collapsed": false,
    "ExecuteTime": {
     "end_time": "2023-11-22T13:06:22.064399596Z",
     "start_time": "2023-11-22T13:06:21.802857670Z"
    }
   },
   "id": "b875d89255af29b0"
  },
  {
   "cell_type": "code",
   "execution_count": 26,
   "outputs": [],
   "source": [
    "device = 'cuda' if torch.cuda.is_available() else 'cpu'"
   ],
   "metadata": {
    "collapsed": false,
    "ExecuteTime": {
     "end_time": "2023-11-22T13:10:25.396678530Z",
     "start_time": "2023-11-22T13:10:25.391487932Z"
    }
   },
   "id": "e4afbcd7c69d1637"
  },
  {
   "cell_type": "code",
   "execution_count": 220,
   "outputs": [
    {
     "name": "stdout",
     "output_type": "stream",
     "text": [
      "13948050\n"
     ]
    }
   ],
   "source": [
    "class ConvLSTM(nn.Module):\n",
    "    def __init__(self, num_classes_to_predict):\n",
    "        super().__init__()\n",
    "        \n",
    "        self.tanh = nn.Tanh() \n",
    "        self.relu = nn.ReLU()\n",
    "        \n",
    "        self.conv1 = nn.Conv3d(in_channels=1, out_channels=32, kernel_size=(1, 10, 10)) \n",
    "        \n",
    "       \n",
    "        self.maxpool = nn.MaxPool3d(kernel_size=(1, 5, 5))\n",
    "        \n",
    "        self.conv2 = nn.Conv3d(in_channels=32, out_channels=16, kernel_size=(1, 5, 5))\n",
    "        \n",
    "        self.fc = nn.Linear(960, 2000)\n",
    "        \n",
    "        self.lstm = nn.LSTM(2000, 1000, batch_first=True) \n",
    "        \n",
    "        self.fc1 = nn.Linear(1000, num_classes_to_predict)\n",
    "        \n",
    "        self.softmax = nn.Softmax(dim=1) \n",
    "        \n",
    "    def forward(self, x):\n",
    "        B = x.shape[0]\n",
    "        \n",
    "        x = self.maxpool(self.relu(self.conv1(x)))\n",
    "        x = self.maxpool(self.relu(self.conv2(x)))\n",
    "        \n",
    "        x = x.view(B, -1)\n",
    "        \n",
    "        x = self.tanh(self.fc(x))\n",
    "        \n",
    "        h_t, c_t = self.lstm(x)\n",
    "        \n",
    "        x = self.tanh(self.fc1(h_t))\n",
    "        \n",
    "        return self.softmax(x), h_t, c_t \n",
    "        \n",
    "\n",
    "model = ConvLSTM(num_classes_to_predict=2).to(device)\n",
    "\n",
    "print(sum(p.numel() for p in model.parameters()))"
   ],
   "metadata": {
    "collapsed": false,
    "ExecuteTime": {
     "end_time": "2023-11-22T15:28:06.795020038Z",
     "start_time": "2023-11-22T15:28:06.673758778Z"
    }
   },
   "id": "a4bf0aa0df956cf8"
  },
  {
   "cell_type": "code",
   "execution_count": 230,
   "outputs": [
    {
     "name": "stdout",
     "output_type": "stream",
     "text": [
      "tensor([[1., 0.],\n",
      "        [0., 1.]]) <- classes\n"
     ]
    }
   ],
   "source": [
    "n = 2\n",
    "classes = torch.eye(n=n) \n",
    "print(classes, '<- classes')\n",
    "\n",
    "# 0 -> Default\n",
    "# 1 -> Swipe-up\n",
    "default_pose_dataset_targets = torch.expand_copy(classes[0],\n",
    "                                                 size=(default_pose_dataset_train.shape[0], default_pose_dataset_train.shape[1],n))\n",
    "\n",
    "swipe_up_targets = torch.expand_copy(classes[1],\n",
    "                                     size=(swipe_dataset_train.shape[0], swipe_dataset_train.shape[1], n))\n",
    "\n",
    "\n",
    "X_train = torch.concat(tensors=(swipe_dataset_train, default_pose_dataset_train), dim=0).to(device)\n",
    "\n",
    "Y_train =  torch.concat(tensors=(swipe_up_targets, default_pose_dataset_targets), dim=0).to(device)"
   ],
   "metadata": {
    "collapsed": false,
    "ExecuteTime": {
     "end_time": "2023-11-22T15:44:10.440337873Z",
     "start_time": "2023-11-22T15:44:10.422561554Z"
    }
   },
   "id": "ccca3b4370bba398"
  },
  {
   "cell_type": "code",
   "execution_count": 222,
   "outputs": [],
   "source": [
    "lr = 0.00001\n",
    "optimizer = torch.optim.Adam(params=model.parameters(), lr=lr)\n",
    "criterion = nn.CrossEntropyLoss()\n",
    "epochs = 200 \n",
    "lossi = []"
   ],
   "metadata": {
    "collapsed": false,
    "ExecuteTime": {
     "end_time": "2023-11-22T15:28:10.653859473Z",
     "start_time": "2023-11-22T15:28:10.646795867Z"
    }
   },
   "id": "bd6e535fb7cc59e"
  },
  {
   "cell_type": "code",
   "execution_count": 223,
   "outputs": [
    {
     "name": "stdout",
     "output_type": "stream",
     "text": [
      "0.3831917941570282\n"
     ]
    }
   ],
   "source": [
    "model.train()\n",
    "\n",
    "for epoch in range(epochs):\n",
    "    for i, v in enumerate(X_train):\n",
    "        inp = X_train[i].view(1, 1, 5, 200, 100)\n",
    "        target = Y_train[i]\n",
    "        \n",
    "        pred, _, _ = model(inp)\n",
    "        \n",
    "        loss = criterion(pred, target[0].unsqueeze(0))\n",
    "        \n",
    "        optimizer.zero_grad(set_to_none=True)\n",
    "        loss.backward()\n",
    "        lossi.append(loss.item()) \n",
    "        optimizer.step()\n",
    "    \n",
    "print(loss.item()) "
   ],
   "metadata": {
    "collapsed": false,
    "ExecuteTime": {
     "end_time": "2023-11-22T15:29:49.155279211Z",
     "start_time": "2023-11-22T15:28:11.938909373Z"
    }
   },
   "id": "ac8ca2c684c7666b"
  },
  {
   "cell_type": "code",
   "execution_count": 225,
   "outputs": [
    {
     "data": {
      "text/plain": "[<matplotlib.lines.Line2D at 0x7fe908ebd780>]"
     },
     "execution_count": 225,
     "metadata": {},
     "output_type": "execute_result"
    },
    {
     "data": {
      "text/plain": "<Figure size 640x480 with 1 Axes>",
      "image/png": "[encoded data removed]"
     },
     "metadata": {},
     "output_type": "display_data"
    }
   ],
   "source": [
    "plt.plot(torch.tensor(lossi).view(-1, 100).mean(dim=1))"
   ],
   "metadata": {
    "collapsed": false,
    "ExecuteTime": {
     "end_time": "2023-11-22T15:31:09.636691436Z",
     "start_time": "2023-11-22T15:31:09.529088993Z"
    }
   },
   "id": "e75c0e4f14c102a1"
  },
  {
   "cell_type": "code",
   "execution_count": 231,
   "outputs": [
    {
     "name": "stdout",
     "output_type": "stream",
     "text": [
      "75.0\n"
     ]
    }
   ],
   "source": [
    "model.eval()\n",
    "total = 0\n",
    "correct = 0\n",
    "\n",
    "default_pose_dataset_targets_test = torch.expand_copy(classes[0],\n",
    "                                                 size=(default_pose_dataset_test.shape[0], default_pose_dataset_test.shape[1],n))\n",
    "\n",
    "swipe_up_targets_test = torch.expand_copy(classes[1],\n",
    "                                     size=(swipe_dataset_test.shape[0], swipe_dataset_test.shape[1], n))\n",
    "\n",
    "\n",
    "X_test = torch.concat((swipe_dataset_test, default_pose_dataset_test), dim=0).to(device)\n",
    "Y_test = torch.concat((swipe_up_targets_test, default_pose_dataset_targets_test), dim=0).to(device)\n",
    "\n",
    "\n",
    "for i, v in enumerate(X_test):\n",
    "    inp = X_test[i].view(1, 1, 5, 200, 100)\n",
    "    tg = Y_test[i].to(torch.int64)\n",
    "    pred, _, _ = model(inp)\n",
    "    if classes.to(torch.int64).to(device)[pred.argmax(dim=1)].allclose(tg[0]):\n",
    "        correct += 1\n",
    "    total += 1\n",
    "\n",
    "print(f\"{correct / total * 100:.3}\")"
   ],
   "metadata": {
    "collapsed": false,
    "ExecuteTime": {
     "end_time": "2023-11-22T15:44:32.933412648Z",
     "start_time": "2023-11-22T15:44:32.884353117Z"
    }
   },
   "id": "8205d77a49a04d4f"
  },
  {
   "cell_type": "code",
   "execution_count": 124,
   "outputs": [
    {
     "name": "stdout",
     "output_type": "stream",
     "text": [
      "tensor([[1., 0.],\n",
      "        [0., 1.]])\n"
     ]
    }
   ],
   "source": [
    "print(classes)"
   ],
   "metadata": {
    "collapsed": false,
    "ExecuteTime": {
     "end_time": "2023-11-22T13:55:33.397859684Z",
     "start_time": "2023-11-22T13:55:33.351874844Z"
    }
   },
   "id": "f68946d20f4aee5b"
  },
  {
   "cell_type": "code",
   "execution_count": 227,
   "outputs": [],
   "source": [
    "torch.save(model.state_dict(), 'canny_v3')"
   ],
   "metadata": {
    "collapsed": false,
    "ExecuteTime": {
     "end_time": "2023-11-22T15:31:19.941280303Z",
     "start_time": "2023-11-22T15:31:19.809548753Z"
    }
   },
   "id": "1c71827f469bfac3"
  },
  {
   "cell_type": "code",
   "execution_count": 216,
   "outputs": [
    {
     "data": {
      "text/plain": "tensor([[1, 0],\n        [0, 1]])"
     },
     "execution_count": 216,
     "metadata": {},
     "output_type": "execute_result"
    }
   ],
   "source": [
    "t1 = torch.tensor([[1, 0], [0, 1]])\n",
    "t2 = torch.tensor([0, 1])\n",
    "t1[[0, 1]]"
   ],
   "metadata": {
    "collapsed": false,
    "ExecuteTime": {
     "end_time": "2023-11-22T15:26:13.568869961Z",
     "start_time": "2023-11-22T15:26:13.525379587Z"
    }
   },
   "id": "78eb5c3eae4ef592"
  }
 ],
 "metadata": {
  "kernelspec": {
   "display_name": "Python 3",
   "language": "python",
   "name": "python3"
  },
  "language_info": {
   "codemirror_mode": {
    "name": "ipython",
    "version": 2
   },
   "file_extension": ".py",
   "mimetype": "text/x-python",
   "name": "python",
   "nbconvert_exporter": "python",
   "pygments_lexer": "ipython2",
   "version": "2.7.6"
  }
 },
 "nbformat": 4,
 "nbformat_minor": 5
}
